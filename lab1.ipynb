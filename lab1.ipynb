{
 "cells": [
  {
   "cell_type": "code",
   "execution_count": 2,
   "metadata": {},
   "outputs": [],
   "source": [
    "import numpy as np"
   ]
  },
  {
   "cell_type": "code",
   "execution_count": 55,
   "metadata": {},
   "outputs": [],
   "source": [
    "A = np.array([\n",
    "    [1, 2, 3],\n",
    "    [4, 5, 6],\n",
    "    [7, 8, 9]\n",
    "])\n",
    "B = np.array([\n",
    "    [-1, -2, -3],\n",
    "    [-4, -5, -6],\n",
    "    [-7, -8, -9]\n",
    "  \n",
    "])"
   ]
  },
  {
   "cell_type": "markdown",
   "metadata": {},
   "source": [
    "# Zadanie 1"
   ]
  },
  {
   "cell_type": "code",
   "execution_count": 56,
   "metadata": {},
   "outputs": [
    {
     "name": "stdout",
     "output_type": "stream",
     "text": [
      "[[ -30.  -36.  -42.]\n",
      " [ -66.  -81.  -96.]\n",
      " [-102. -126. -150.]]\n"
     ]
    }
   ],
   "source": [
    "def validate_shapes(A, B):\n",
    "    if A.shape[1] != B.shape[0]:\n",
    "        raise Exception(f'cannot multiply matrices with shapes {A.shape} and {B.shape}')\n",
    "\n",
    "        \n",
    "def multiply_matrix_by_vector(M, V):\n",
    "    \"\"\"\n",
    "    Mnozenie macierzy przez wektor\n",
    "    \"\"\"\n",
    "    validate_shapes(M, V)\n",
    "    M_height, M_width = M.shape\n",
    "    result = np.zeros(M_height)\n",
    "    \n",
    "    for row in range(M_height):\n",
    "        for col in range(M_width):\n",
    "            result[row] += M[row, col] * V[col]\n",
    "            \n",
    "    return result\n",
    "\n",
    "\n",
    "def mul1(A, B):\n",
    "    \"\"\"\n",
    "    Mnozenie macierzy jako zlozenie mnozenia macierzy przez wiele wektorow.\n",
    "    \"\"\"\n",
    "    validate_shapes(A, B)\n",
    "    \n",
    "    A_height, A_width = A.shape\n",
    "    B_height, B_width = B.shape\n",
    "    \n",
    "    result_columns = []\n",
    "        \n",
    "    for col in range(B_width):\n",
    "        result_columns.append(multiply_matrix_by_vector(A, B[:, col]))\n",
    "        \n",
    "    result = np.stack(result_columns, axis=1)\n",
    "    return result\n",
    "        \n",
    "    \n",
    "print(mul1(A,B))"
   ]
  },
  {
   "cell_type": "markdown",
   "metadata": {},
   "source": [
    "# Zadanie 2"
   ]
  },
  {
   "cell_type": "code",
   "execution_count": 57,
   "metadata": {},
   "outputs": [
    {
     "name": "stdout",
     "output_type": "stream",
     "text": [
      "[[ -30.  -36.  -42.]\n",
      " [ -66.  -81.  -96.]\n",
      " [-102. -126. -150.]]\n"
     ]
    }
   ],
   "source": [
    "\n",
    "def dot_product(A,B):\n",
    "    if A.shape[0] != B.shape[0]:\n",
    "        raise Exception(f'cannot make dot produtcts from matrices with shapes {A.shape} and {B.shape}')\n",
    "    result = 0\n",
    "    for i in range(A.shape[0]):\n",
    "        result +=  A[i] *B[i]\n",
    "    return result\n",
    "\n",
    "def mul2(A, B):\n",
    "    \"\"\"\n",
    "    Mnożenie macierzy jako złożenie mnożenia wierszy przez kolumny\n",
    "    \"\"\"\n",
    "    validate_shapes(A,B)\n",
    "    C = np.zeros((A.shape[0],B.shape[1]))\n",
    "    for a_row in range(A.shape[0]):\n",
    "        for b_col in range(B.shape[1]):\n",
    "            C[a_row][b_col] = dot_product(A[a_row,:], B[:,b_col])\n",
    "    return C\n",
    "print(mul2(A,B))\n",
    "        "
   ]
  },
  {
   "cell_type": "markdown",
   "metadata": {},
   "source": [
    "# Zadanie 3"
   ]
  },
  {
   "cell_type": "code",
   "execution_count": 72,
   "metadata": {},
   "outputs": [
    {
     "name": "stdout",
     "output_type": "stream",
     "text": [
      "[[ -30.  -66. -102.]\n",
      " [ -36.  -81. -126.]\n",
      " [ -42.  -96. -150.]]\n"
     ]
    }
   ],
   "source": [
    "def add_matrices(A,B):\n",
    "    if A.shape != B.shape:\n",
    "        raise Exception(f'cannot add matrices with shapes {A.shape} and {B.shape}')\n",
    "    result = np.zeros((A.shape[0],B.shape[1]))\n",
    "    for i in range(A.shape[0]):\n",
    "        for j in range(B.shape[1]):\n",
    "            result[i][j] = A[i][j] + B[i][j]\n",
    "    return result\n",
    "\n",
    "def mul_rank_1_update(row, column):\n",
    "    result = np.zeros((column.shape[0], row.shape[0]))\n",
    "    for i in range(column.shape[0]):\n",
    "        for j in range(row.shape[0]):\n",
    "            result[i][j] = column[i] * row[j]\n",
    "    return result\n",
    "    \n",
    "\n",
    "def mul3(A,B):\n",
    "    \"\"\"\n",
    "    Mnożenie macierzy jako suma wielu rank-1 update \n",
    "    \"\"\"\n",
    "    validate_shapes(A,B)\n",
    "    C = np.zeros((A.shape[0],B.shape[1]))\n",
    "    for i in range(A.shape[1]):\n",
    "            rank_1_update =  mul_rank_1_update(A[:,i], B[i])\n",
    "            C = add_matrices(C, rank_1_update)\n",
    "    return C\n",
    "\n",
    "print(mul3(A,B))\n",
    "        "
   ]
  },
  {
   "cell_type": "markdown",
   "metadata": {},
   "source": [
    "# Zadanie 4"
   ]
  },
  {
   "cell_type": "code",
   "execution_count": null,
   "metadata": {},
   "outputs": [],
   "source": []
  }
 ],
 "metadata": {
  "kernelspec": {
   "display_name": "conda-nn-env",
   "language": "python",
   "name": "conda-nn-env"
  },
  "language_info": {
   "codemirror_mode": {
    "name": "ipython",
    "version": 3
   },
   "file_extension": ".py",
   "mimetype": "text/x-python",
   "name": "python",
   "nbconvert_exporter": "python",
   "pygments_lexer": "ipython3",
   "version": "3.6.10"
  }
 },
 "nbformat": 4,
 "nbformat_minor": 4
}

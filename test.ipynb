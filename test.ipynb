{
 "cells": [
  {
   "cell_type": "code",
   "execution_count": 1,
   "metadata": {},
   "outputs": [],
   "source": [
    "import numpy as np"
   ]
  },
  {
   "cell_type": "code",
   "execution_count": 2,
   "metadata": {},
   "outputs": [],
   "source": [
    "A = np.array([\n",
    "    [1, 2, 3],\n",
    "    [4, 5, 6],\n",
    "    [7, 8, 9]\n",
    "])\n",
    "\n",
    "B = np.array([\n",
    "    [-1, -2, -3],\n",
    "    [-4, -5, -6],\n",
    "    [-7, -8, -9]\n",
    "])"
   ]
  },
  {
   "cell_type": "code",
   "execution_count": 19,
   "metadata": {},
   "outputs": [],
   "source": [
    "def validate_shapes(A, B):\n",
    "    if A.shape[1] != B.shape[0]:\n",
    "        raise Exception(f'cannot multiply matrices with shapes {A.shape} and {B.shape}')\n",
    "\n",
    "        \n",
    "def multiply_matrix_by_vector(M, V):\n",
    "    \"\"\"\n",
    "    Mnozenie macierzy przez wektor\n",
    "    \"\"\"\n",
    "    validate_shapes(M, V)\n",
    "    M_height, M_width = M.shape\n",
    "    result = np.zeros(M_height)\n",
    "    \n",
    "    for row in range(M_height):\n",
    "        for col in range(M_width):\n",
    "            result[row] += M[row, col] * V[col]\n",
    "            \n",
    "    return result\n",
    "\n",
    "\n",
    "def mul1(A, B):\n",
    "    \"\"\"\n",
    "    Mnozenie macierzy jako zlozenie mnozenia macierzy przez wiele wektorow.\n",
    "    \"\"\"\n",
    "    validate_shapes(A, B)\n",
    "    \n",
    "    A_height, A_width = A.shape\n",
    "    B_height, B_width = B.shape\n",
    "    \n",
    "    result_columns = []\n",
    "        \n",
    "    for col in range(B_width):\n",
    "        result_columns.append(multiply_matrix_by_vector(A, B[:, col]))\n",
    "        \n",
    "    result = np.stack(result_columns, axis=1)\n",
    "    return result\n",
    "        \n",
    "    "
   ]
  },
  {
   "cell_type": "code",
   "execution_count": 20,
   "metadata": {},
   "outputs": [
    {
     "name": "stdout",
     "output_type": "stream",
     "text": [
      "[[ -30  -36  -42]\n",
      " [ -66  -81  -96]\n",
      " [-102 -126 -150]]\n",
      "[[ -30.  -36.  -42.]\n",
      " [ -66.  -81.  -96.]\n",
      " [-102. -126. -150.]]\n"
     ]
    }
   ],
   "source": [
    "print(A @ B)\n",
    "print(mul1(A, B))"
   ]
  },
  {
   "cell_type": "code",
   "execution_count": 9,
   "metadata": {},
   "outputs": [
    {
     "data": {
      "text/plain": [
       "array([-14, -32, -50])"
      ]
     },
     "execution_count": 9,
     "metadata": {},
     "output_type": "execute_result"
    }
   ],
   "source": [
    "M @ V"
   ]
  },
  {
   "cell_type": "code",
   "execution_count": 25,
   "metadata": {},
   "outputs": [
    {
     "data": {
      "text/plain": [
       "array([[1],\n",
       "       [2],\n",
       "       [3]])"
      ]
     },
     "execution_count": 25,
     "metadata": {},
     "output_type": "execute_result"
    }
   ],
   "source": [
    "xd = np.array([1, 2, 3]).reshape(-1, 1)\n",
    "xd"
   ]
  }
 ],
 "metadata": {
  "kernelspec": {
   "display_name": "Python 3",
   "language": "python",
   "name": "python3"
  },
  "language_info": {
   "codemirror_mode": {
    "name": "ipython",
    "version": 3
   },
   "file_extension": ".py",
   "mimetype": "text/x-python",
   "name": "python",
   "nbconvert_exporter": "python",
   "pygments_lexer": "ipython3",
   "version": "3.6.9"
  }
 },
 "nbformat": 4,
 "nbformat_minor": 4
}
